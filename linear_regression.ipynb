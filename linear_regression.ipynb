{
 "cells": [
  {
   "cell_type": "code",
   "execution_count": 1,
   "id": "fc19216c-f513-4483-a533-39db90a4d708",
   "metadata": {},
   "outputs": [],
   "source": [
    "import numpy as np\n",
    "import matplotlib.pyplot as plt\n",
    "from sklearn.datasets import make_regression"
   ]
  },
  {
   "cell_type": "code",
   "execution_count": 139,
   "id": "76223d00-c117-4d21-b303-2e74c47a74d9",
   "metadata": {},
   "outputs": [],
   "source": [
    "X,y = make_regression(n_samples=100,n_features=1, noise=10)"
   ]
  },
  {
   "cell_type": "code",
   "execution_count": 140,
   "id": "1fee4c03-b67e-4409-b37a-ef8ffb07202a",
   "metadata": {},
   "outputs": [
    {
     "data": {
      "text/plain": [
       "<matplotlib.collections.PathCollection at 0x215cc0829d0>"
      ]
     },
     "execution_count": 140,
     "metadata": {},
     "output_type": "execute_result"
    },
    {
     "data": {
      "image/png": "[encoded data removed]",
      "text/plain": [
       "<Figure size 432x288 with 1 Axes>"
      ]
     },
     "metadata": {
      "needs_background": "light"
     },
     "output_type": "display_data"
    }
   ],
   "source": [
    "plt.scatter(X,y)"
   ]
  },
  {
   "cell_type": "code",
   "execution_count": 141,
   "id": "b93a44a9-b00c-4c66-a765-9be73885f5fd",
   "metadata": {},
   "outputs": [],
   "source": [
    "y = y.reshape(y.shape[0],1)\n",
    "X = np.concatenate((X,np.ones((100,1))),axis = 1)"
   ]
  },
  {
   "cell_type": "code",
   "execution_count": 142,
   "id": "b37e7156-ee62-43ff-880e-90ea5775b30c",
   "metadata": {},
   "outputs": [],
   "source": [
    "#initial theta\n",
    "theta = np.random.randn(2,1)"
   ]
  },
  {
   "cell_type": "code",
   "execution_count": 143,
   "id": "687e9211-eab2-4527-b5d7-f817574e2e40",
   "metadata": {},
   "outputs": [
    {
     "data": {
      "text/plain": [
       "array([[0.15739566],\n",
       "       [0.39260651]])"
      ]
     },
     "execution_count": 143,
     "metadata": {},
     "output_type": "execute_result"
    }
   ],
   "source": [
    "theta"
   ]
  },
  {
   "cell_type": "code",
   "execution_count": 144,
   "id": "a1f67ef6-a8c2-41d2-997c-02d89db16622",
   "metadata": {},
   "outputs": [],
   "source": [
    "#define model function\n",
    "def model(X,theta):\n",
    "    return X.dot(theta)"
   ]
  },
  {
   "cell_type": "code",
   "execution_count": 145,
   "id": "fbea19b2-f964-4ae0-b816-634f522a013d",
   "metadata": {},
   "outputs": [
    {
     "data": {
      "text/plain": [
       "[<matplotlib.lines.Line2D at 0x215cc0f1640>]"
      ]
     },
     "execution_count": 145,
     "metadata": {},
     "output_type": "execute_result"
    },
    {
     "data": {
      "image/png": "[encoded data removed]",
      "text/plain": [
       "<Figure size 432x288 with 1 Axes>"
      ]
     },
     "metadata": {
      "needs_background": "light"
     },
     "output_type": "display_data"
    }
   ],
   "source": [
    "plt.scatter(X[:,0],y)\n",
    "plt.plot(X[:,0],model(X,theta),c = 'r')"
   ]
  },
  {
   "cell_type": "code",
   "execution_count": 146,
   "id": "9dc51f8a-94b1-4e55-be52-5cbda94b68db",
   "metadata": {},
   "outputs": [],
   "source": [
    "# model amelioration"
   ]
  },
  {
   "cell_type": "code",
   "execution_count": 147,
   "id": "d3965911-bd85-4da8-beca-3310d3fb1481",
   "metadata": {},
   "outputs": [],
   "source": [
    "#cost function"
   ]
  },
  {
   "cell_type": "code",
   "execution_count": 148,
   "id": "0b0e3cce-cb9b-45e3-852b-775d28d2a5f7",
   "metadata": {},
   "outputs": [],
   "source": [
    "def cost_function(X,y,theta):\n",
    "    m = len(y)\n",
    "    cost = (1/2*m)*np.sum((model(X,theta) - y)**2)\n",
    "    return cost"
   ]
  },
  {
   "cell_type": "code",
   "execution_count": 149,
   "id": "ca7982cc-e55f-456f-855a-7312bbd7d28e",
   "metadata": {},
   "outputs": [
    {
     "data": {
      "text/plain": [
       "42549319.397115536"
      ]
     },
     "execution_count": 149,
     "metadata": {},
     "output_type": "execute_result"
    }
   ],
   "source": [
    "cost_function(X,y,theta)"
   ]
  },
  {
   "cell_type": "code",
   "execution_count": 150,
   "id": "27c2471e-0864-4712-bfe0-9e75b6839908",
   "metadata": {},
   "outputs": [],
   "source": [
    "def gradient(X,y,theta):\n",
    "    m = len(y)\n",
    "    grad = (1/m)*X.T.dot(model(X,theta) - y)\n",
    "    return grad"
   ]
  },
  {
   "cell_type": "code",
   "execution_count": 151,
   "id": "cbda586d-a461-406e-a627-96ab81fb5e5e",
   "metadata": {},
   "outputs": [
    {
     "data": {
      "text/plain": [
       "array([[-88.71711155],\n",
       "       [-17.11459204]])"
      ]
     },
     "execution_count": 151,
     "metadata": {},
     "output_type": "execute_result"
    }
   ],
   "source": [
    "gradient(X,y,theta)"
   ]
  },
  {
   "cell_type": "code",
   "execution_count": 167,
   "id": "acdf7097-3ae5-4071-96fe-5e1d990d56d1",
   "metadata": {},
   "outputs": [
    {
     "data": {
      "text/plain": [
       "array([0, 1, 2, 3])"
      ]
     },
     "execution_count": 167,
     "metadata": {},
     "output_type": "execute_result"
    }
   ],
   "source": [
    "#np.zeros((len(y),1))\n",
    "np.arange(0,4)"
   ]
  },
  {
   "cell_type": "code",
   "execution_count": 174,
   "id": "20f5b9f4-716f-467c-83bd-978e1c70f6f9",
   "metadata": {},
   "outputs": [],
   "source": [
    "def gradient_descent(X,y,theta,lr,n_iteration):\n",
    "    cost_history = np.zeros((n_iteration,1))\n",
    "    for i in range(0,n_iteration):\n",
    "        theta = theta - lr * gradient(X,y,theta)\n",
    "        cost_history[i]=cost_function(X,y,theta)\n",
    "    return theta,cost_history"
   ]
  },
  {
   "cell_type": "code",
   "execution_count": 183,
   "id": "cc3a912f-11eb-41a7-9c13-e8d671460042",
   "metadata": {},
   "outputs": [],
   "source": [
    "theta_final,cost_history = gradient_descent(X,y,theta,lr = 0.1,n_iteration=100)"
   ]
  },
  {
   "cell_type": "code",
   "execution_count": 184,
   "id": "4d5332e8-6d25-4b4d-aa56-51923f6ea4b4",
   "metadata": {},
   "outputs": [
    {
     "data": {
      "text/plain": [
       "array([[94.83283402],\n",
       "       [ 1.14919024]])"
      ]
     },
     "execution_count": 184,
     "metadata": {},
     "output_type": "execute_result"
    }
   ],
   "source": [
    "theta_final"
   ]
  },
  {
   "cell_type": "code",
   "execution_count": 185,
   "id": "f26fc4b9-58cd-4833-b429-84c8c017ac61",
   "metadata": {},
   "outputs": [
    {
     "data": {
      "text/plain": [
       "[<matplotlib.lines.Line2D at 0x215cc74dc70>]"
      ]
     },
     "execution_count": 185,
     "metadata": {},
     "output_type": "execute_result"
    },
    {
     "data": {
      "image/png": "[encoded data removed]",
      "text/plain": [
       "<Figure size 432x288 with 1 Axes>"
      ]
     },
     "metadata": {
      "needs_background": "light"
     },
     "output_type": "display_data"
    }
   ],
   "source": [
    "plt.scatter(X[:,0],y)\n",
    "plt.plot(X[:,0],model(X,theta_final),c='r')"
   ]
  },
  {
   "cell_type": "code",
   "execution_count": 186,
   "id": "a178a0aa-5fb2-4441-9313-8cd4222a74f5",
   "metadata": {},
   "outputs": [],
   "source": [
    "def model_score(X,y,theta):\n",
    "    u = np.sum((model(X,theta)-y)**2)\n",
    "    v = np.sum((model(X,theta)-y.mean())**2)\n",
    "    mse = 1 - u/v\n",
    "    return mse"
   ]
  },
  {
   "cell_type": "code",
   "execution_count": 187,
   "id": "bae73b22-dcb5-40f7-96e2-7eaf2adb1cfe",
   "metadata": {},
   "outputs": [
    {
     "data": {
      "text/plain": [
       "0.9881548000423428"
      ]
     },
     "execution_count": 187,
     "metadata": {},
     "output_type": "execute_result"
    }
   ],
   "source": [
    "model_score(X,y,theta_final)"
   ]
  },
  {
   "cell_type": "code",
   "execution_count": 188,
   "id": "427517bc-3614-4cf0-be1e-4cbb201557e8",
   "metadata": {},
   "outputs": [],
   "source": [
    "#cost function courbe"
   ]
  },
  {
   "cell_type": "code",
   "execution_count": 191,
   "id": "a3c8e142-5c5f-4645-8d59-495fed6b54ad",
   "metadata": {},
   "outputs": [
    {
     "data": {
      "text/plain": [
       "Text(0, 0.5, 'cout en fonction des iterations')"
      ]
     },
     "execution_count": 191,
     "metadata": {},
     "output_type": "execute_result"
    },
    {
     "data": {
      "image/png": "[encoded data removed]",
      "text/plain": [
       "<Figure size 432x288 with 1 Axes>"
      ]
     },
     "metadata": {
      "needs_background": "light"
     },
     "output_type": "display_data"
    }
   ],
   "source": [
    "plt.title(\"cost history\")\n",
    "plt.plot(np.arange(100),cost_history)\n",
    "plt.xlabel(\"nombre iterations\")\n",
    "plt.ylabel(\"cout en fonction des iterations\")"
   ]
  },
  {
   "cell_type": "code",
   "execution_count": null,
   "id": "29c7a22f-2d61-4844-a2d1-a0268e602df3",
   "metadata": {},
   "outputs": [],
   "source": []
  }
 ],
 "metadata": {
  "kernelspec": {
   "display_name": "Python 3 (ipykernel)",
   "language": "python",
   "name": "python3"
  },
  "language_info": {
   "codemirror_mode": {
    "name": "ipython",
    "version": 3
   },
   "file_extension": ".py",
   "mimetype": "text/x-python",
   "name": "python",
   "nbconvert_exporter": "python",
   "pygments_lexer": "ipython3",
   "version": "3.9.9"
  }
 },
 "nbformat": 4,
 "nbformat_minor": 5
}
